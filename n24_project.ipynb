{
 "cells": [
  {
   "cell_type": "code",
   "execution_count": 81,
   "outputs": [],
   "source": [
    "import pandas as pd\n",
    "import matplotlib.pyplot as plt"
   ],
   "metadata": {
    "collapsed": false,
    "pycharm": {
     "name": "#%%\n"
    }
   }
  },
  {
   "cell_type": "code",
   "execution_count": 82,
   "outputs": [],
   "source": [
    "csv = pd.read_csv(\"./2019-Oct.csv\")"
   ],
   "metadata": {
    "collapsed": false,
    "pycharm": {
     "name": "#%%\n"
    }
   }
  },
  {
   "cell_type": "code",
   "execution_count": 83,
   "outputs": [
    {
     "data": {
      "text/plain": "                event_time event_type  product_id          category_id  \\\n0  2019-10-01 00:00:00 UTC       view    44600062  2103807459595387724   \n1  2019-10-01 00:00:00 UTC       view     3900821  2053013552326770905   \n2  2019-10-01 00:00:01 UTC       view    17200506  2053013559792632471   \n3  2019-10-01 00:00:01 UTC       view     1307067  2053013558920217191   \n4  2019-10-01 00:00:04 UTC       view     1004237  2053013555631882655   \n\n                         category_code     brand    price    user_id  \\\n0                                  NaN  shiseido    35.79  541312140   \n1  appliances.environment.water_heater      aqua    33.20  554748717   \n2           furniture.living_room.sofa       NaN   543.10  519107250   \n3                   computers.notebook    lenovo   251.74  550050854   \n4               electronics.smartphone     apple  1081.98  535871217   \n\n                           user_session  \n0  72d76fde-8bb3-4e00-8c23-a032dfed738c  \n1  9333dfbd-b87a-4708-9857-6336556b0fcc  \n2  566511c2-e2e3-422b-b695-cf8e6e792ca8  \n3  7c90fc70-0e80-4590-96f3-13c02c18c713  \n4  c6bd7419-2748-4c56-95b4-8cec9ff8b80d  ",
      "text/html": "<div>\n<style scoped>\n    .dataframe tbody tr th:only-of-type {\n        vertical-align: middle;\n    }\n\n    .dataframe tbody tr th {\n        vertical-align: top;\n    }\n\n    .dataframe thead th {\n        text-align: right;\n    }\n</style>\n<table border=\"1\" class=\"dataframe\">\n  <thead>\n    <tr style=\"text-align: right;\">\n      <th></th>\n      <th>event_time</th>\n      <th>event_type</th>\n      <th>product_id</th>\n      <th>category_id</th>\n      <th>category_code</th>\n      <th>brand</th>\n      <th>price</th>\n      <th>user_id</th>\n      <th>user_session</th>\n    </tr>\n  </thead>\n  <tbody>\n    <tr>\n      <th>0</th>\n      <td>2019-10-01 00:00:00 UTC</td>\n      <td>view</td>\n      <td>44600062</td>\n      <td>2103807459595387724</td>\n      <td>NaN</td>\n      <td>shiseido</td>\n      <td>35.79</td>\n      <td>541312140</td>\n      <td>72d76fde-8bb3-4e00-8c23-a032dfed738c</td>\n    </tr>\n    <tr>\n      <th>1</th>\n      <td>2019-10-01 00:00:00 UTC</td>\n      <td>view</td>\n      <td>3900821</td>\n      <td>2053013552326770905</td>\n      <td>appliances.environment.water_heater</td>\n      <td>aqua</td>\n      <td>33.20</td>\n      <td>554748717</td>\n      <td>9333dfbd-b87a-4708-9857-6336556b0fcc</td>\n    </tr>\n    <tr>\n      <th>2</th>\n      <td>2019-10-01 00:00:01 UTC</td>\n      <td>view</td>\n      <td>17200506</td>\n      <td>2053013559792632471</td>\n      <td>furniture.living_room.sofa</td>\n      <td>NaN</td>\n      <td>543.10</td>\n      <td>519107250</td>\n      <td>566511c2-e2e3-422b-b695-cf8e6e792ca8</td>\n    </tr>\n    <tr>\n      <th>3</th>\n      <td>2019-10-01 00:00:01 UTC</td>\n      <td>view</td>\n      <td>1307067</td>\n      <td>2053013558920217191</td>\n      <td>computers.notebook</td>\n      <td>lenovo</td>\n      <td>251.74</td>\n      <td>550050854</td>\n      <td>7c90fc70-0e80-4590-96f3-13c02c18c713</td>\n    </tr>\n    <tr>\n      <th>4</th>\n      <td>2019-10-01 00:00:04 UTC</td>\n      <td>view</td>\n      <td>1004237</td>\n      <td>2053013555631882655</td>\n      <td>electronics.smartphone</td>\n      <td>apple</td>\n      <td>1081.98</td>\n      <td>535871217</td>\n      <td>c6bd7419-2748-4c56-95b4-8cec9ff8b80d</td>\n    </tr>\n  </tbody>\n</table>\n</div>"
     },
     "execution_count": 83,
     "metadata": {},
     "output_type": "execute_result"
    }
   ],
   "source": [
    "csv.head()"
   ],
   "metadata": {
    "collapsed": false,
    "pycharm": {
     "name": "#%%\n"
    }
   }
  },
  {
   "cell_type": "code",
   "execution_count": 84,
   "outputs": [
    {
     "name": "stdout",
     "output_type": "stream",
     "text": [
      "<class 'pandas.core.frame.DataFrame'>\n",
      "RangeIndex: 42448764 entries, 0 to 42448763\n",
      "Data columns (total 9 columns):\n",
      " #   Column         Dtype  \n",
      "---  ------         -----  \n",
      " 0   event_time     object \n",
      " 1   event_type     object \n",
      " 2   product_id     int64  \n",
      " 3   category_id    int64  \n",
      " 4   category_code  object \n",
      " 5   brand          object \n",
      " 6   price          float64\n",
      " 7   user_id        int64  \n",
      " 8   user_session   object \n",
      "dtypes: float64(1), int64(3), object(5)\n",
      "memory usage: 2.8+ GB\n"
     ]
    }
   ],
   "source": [
    "csv.info()"
   ],
   "metadata": {
    "collapsed": false,
    "pycharm": {
     "name": "#%%\n"
    }
   }
  },
  {
   "cell_type": "code",
   "execution_count": 85,
   "outputs": [
    {
     "data": {
      "text/plain": "event_time       False\nevent_type       False\nproduct_id       False\ncategory_id      False\ncategory_code     True\nbrand             True\nprice            False\nuser_id          False\nuser_session      True\ndtype: bool"
     },
     "execution_count": 85,
     "metadata": {},
     "output_type": "execute_result"
    }
   ],
   "source": [
    "#결측치 확인\n",
    "csv.isnull().any(axis=0)"
   ],
   "metadata": {
    "collapsed": false,
    "pycharm": {
     "name": "#%%\n"
    }
   }
  },
  {
   "cell_type": "code",
   "execution_count": 86,
   "outputs": [
    {
     "data": {
      "text/plain": "view        40779399\ncart          926516\npurchase      742849\nName: event_type, dtype: int64"
     },
     "execution_count": 86,
     "metadata": {},
     "output_type": "execute_result"
    }
   ],
   "source": [
    "#쇼핑형태확인 - 아이쇼핑, 장바구니담기, 구매\n",
    "volume = csv[\"event_type\"].value_counts()\n",
    "volume"
   ],
   "metadata": {
    "collapsed": false,
    "pycharm": {
     "name": "#%%\n"
    }
   }
  },
  {
   "cell_type": "code",
   "execution_count": 106,
   "outputs": [
    {
     "data": {
      "text/plain": "<matplotlib.legend.Legend at 0x1f90a03e3d0>"
     },
     "execution_count": 106,
     "metadata": {},
     "output_type": "execute_result"
    },
    {
     "data": {
      "text/plain": "<Figure size 576x576 with 1 Axes>",
      "image/png": "[encoded data removed]"
     },
     "metadata": {},
     "output_type": "display_data"
    }
   ],
   "source": [
    "plt.pie(volume\n",
    "        , labels = volume.index\n",
    "        , colors = ['red', 'orange','yellow']\n",
    "        , autopct = '%.2f%%'\n",
    "        )\n",
    "plt.legend()"
   ],
   "metadata": {
    "collapsed": false,
    "pycharm": {
     "name": "#%%\n"
    }
   }
  },
  {
   "cell_type": "code",
   "execution_count": 88,
   "outputs": [
    {
     "data": {
      "text/plain": "13515609"
     },
     "execution_count": 88,
     "metadata": {},
     "output_type": "execute_result"
    }
   ],
   "source": [
    "csv[\"category_code\"].isna().sum()"
   ],
   "metadata": {
    "collapsed": false,
    "pycharm": {
     "name": "#%%\n"
    }
   }
  },
  {
   "cell_type": "code",
   "execution_count": 89,
   "outputs": [
    {
     "name": "stderr",
     "output_type": "stream",
     "text": [
      "C:\\Users\\Gak\\AppData\\Local\\Temp/ipykernel_23092/3706445626.py:2: UserWarning: Boolean Series key will be reindexed to match DataFrame index.\n",
      "  csv[csv[\"event_type\"] == \"purchase\"][csv[\"category_code\"].isna()]\n"
     ]
    },
    {
     "data": {
      "text/plain": "                       event_time event_type  product_id          category_id  \\\n379       2019-10-01 00:06:02 UTC   purchase     5100816  2053013553375346967   \n1566      2019-10-01 02:19:12 UTC   purchase    13103842  2053013553526341921   \n1760      2019-10-01 02:19:59 UTC   purchase    28100119  2053013564918072245   \n1884      2019-10-01 02:20:28 UTC   purchase    26601440  2053013563517174627   \n2093      2019-10-01 02:21:07 UTC   purchase    16500007  2053013556462354899   \n...                           ...        ...         ...                  ...   \n42447435  2019-10-31 23:49:26 UTC   purchase     5100816  2053013553375346967   \n42447626  2019-10-31 23:51:02 UTC   purchase    15600016  2053013559767466645   \n42447890  2019-10-31 23:53:18 UTC   purchase    15600016  2053013559767466645   \n42448049  2019-10-31 23:54:33 UTC   purchase    26205284  2053013563693335403   \n42448148  2019-10-31 23:55:13 UTC   purchase    26402784  2053013563651392361   \n\n         category_code   brand   price    user_id  \\\n379                NaN  xiaomi   29.51  514591159   \n1566               NaN     pdw  391.26  516178643   \n1760               NaN     NaN  153.16  517953667   \n1884               NaN     NaN   91.12  554101070   \n2093               NaN   omron   62.52  516815266   \n...                ...     ...     ...        ...   \n42447435           NaN  xiaomi   29.58  514905226   \n42447626           NaN     NaN  419.55  542728394   \n42447890           NaN     NaN  419.55  542728394   \n42448049           NaN     NaN  143.89  513040838   \n42448148           NaN     NaN  102.45  516604399   \n\n                                  user_session  \n379       0e5dfc4b-2a55-43e6-8c05-97e1f07fbb56  \n1566      4d74b49e-3838-43cc-ac2e-a0490942b464  \n1760      7954f58c-158d-402d-9820-c502a5eea86d  \n1884      5a29c401-c05b-4dcf-b9e6-78324875dfd4  \n2093      918c33db-9bb0-41b9-a148-47523330eddd  \n...                                        ...  \n42447435  6f25d2de-bb1c-4e68-b848-f03372fb6e7d  \n42447626  e62b779b-d70e-4468-8f35-4bcf6879e471  \n42447890  e62b779b-d70e-4468-8f35-4bcf6879e471  \n42448049  639dc99e-72cd-433d-ad90-24c78d71418f  \n42448148  a98bd433-57ac-42d0-ba81-e18b135a7a16  \n\n[173425 rows x 9 columns]",
      "text/html": "<div>\n<style scoped>\n    .dataframe tbody tr th:only-of-type {\n        vertical-align: middle;\n    }\n\n    .dataframe tbody tr th {\n        vertical-align: top;\n    }\n\n    .dataframe thead th {\n        text-align: right;\n    }\n</style>\n<table border=\"1\" class=\"dataframe\">\n  <thead>\n    <tr style=\"text-align: right;\">\n      <th></th>\n      <th>event_time</th>\n      <th>event_type</th>\n      <th>product_id</th>\n      <th>category_id</th>\n      <th>category_code</th>\n      <th>brand</th>\n      <th>price</th>\n      <th>user_id</th>\n      <th>user_session</th>\n    </tr>\n  </thead>\n  <tbody>\n    <tr>\n      <th>379</th>\n      <td>2019-10-01 00:06:02 UTC</td>\n      <td>purchase</td>\n      <td>5100816</td>\n      <td>2053013553375346967</td>\n      <td>NaN</td>\n      <td>xiaomi</td>\n      <td>29.51</td>\n      <td>514591159</td>\n      <td>0e5dfc4b-2a55-43e6-8c05-97e1f07fbb56</td>\n    </tr>\n    <tr>\n      <th>1566</th>\n      <td>2019-10-01 02:19:12 UTC</td>\n      <td>purchase</td>\n      <td>13103842</td>\n      <td>2053013553526341921</td>\n      <td>NaN</td>\n      <td>pdw</td>\n      <td>391.26</td>\n      <td>516178643</td>\n      <td>4d74b49e-3838-43cc-ac2e-a0490942b464</td>\n    </tr>\n    <tr>\n      <th>1760</th>\n      <td>2019-10-01 02:19:59 UTC</td>\n      <td>purchase</td>\n      <td>28100119</td>\n      <td>2053013564918072245</td>\n      <td>NaN</td>\n      <td>NaN</td>\n      <td>153.16</td>\n      <td>517953667</td>\n      <td>7954f58c-158d-402d-9820-c502a5eea86d</td>\n    </tr>\n    <tr>\n      <th>1884</th>\n      <td>2019-10-01 02:20:28 UTC</td>\n      <td>purchase</td>\n      <td>26601440</td>\n      <td>2053013563517174627</td>\n      <td>NaN</td>\n      <td>NaN</td>\n      <td>91.12</td>\n      <td>554101070</td>\n      <td>5a29c401-c05b-4dcf-b9e6-78324875dfd4</td>\n    </tr>\n    <tr>\n      <th>2093</th>\n      <td>2019-10-01 02:21:07 UTC</td>\n      <td>purchase</td>\n      <td>16500007</td>\n      <td>2053013556462354899</td>\n      <td>NaN</td>\n      <td>omron</td>\n      <td>62.52</td>\n      <td>516815266</td>\n      <td>918c33db-9bb0-41b9-a148-47523330eddd</td>\n    </tr>\n    <tr>\n      <th>...</th>\n      <td>...</td>\n      <td>...</td>\n      <td>...</td>\n      <td>...</td>\n      <td>...</td>\n      <td>...</td>\n      <td>...</td>\n      <td>...</td>\n      <td>...</td>\n    </tr>\n    <tr>\n      <th>42447435</th>\n      <td>2019-10-31 23:49:26 UTC</td>\n      <td>purchase</td>\n      <td>5100816</td>\n      <td>2053013553375346967</td>\n      <td>NaN</td>\n      <td>xiaomi</td>\n      <td>29.58</td>\n      <td>514905226</td>\n      <td>6f25d2de-bb1c-4e68-b848-f03372fb6e7d</td>\n    </tr>\n    <tr>\n      <th>42447626</th>\n      <td>2019-10-31 23:51:02 UTC</td>\n      <td>purchase</td>\n      <td>15600016</td>\n      <td>2053013559767466645</td>\n      <td>NaN</td>\n      <td>NaN</td>\n      <td>419.55</td>\n      <td>542728394</td>\n      <td>e62b779b-d70e-4468-8f35-4bcf6879e471</td>\n    </tr>\n    <tr>\n      <th>42447890</th>\n      <td>2019-10-31 23:53:18 UTC</td>\n      <td>purchase</td>\n      <td>15600016</td>\n      <td>2053013559767466645</td>\n      <td>NaN</td>\n      <td>NaN</td>\n      <td>419.55</td>\n      <td>542728394</td>\n      <td>e62b779b-d70e-4468-8f35-4bcf6879e471</td>\n    </tr>\n    <tr>\n      <th>42448049</th>\n      <td>2019-10-31 23:54:33 UTC</td>\n      <td>purchase</td>\n      <td>26205284</td>\n      <td>2053013563693335403</td>\n      <td>NaN</td>\n      <td>NaN</td>\n      <td>143.89</td>\n      <td>513040838</td>\n      <td>639dc99e-72cd-433d-ad90-24c78d71418f</td>\n    </tr>\n    <tr>\n      <th>42448148</th>\n      <td>2019-10-31 23:55:13 UTC</td>\n      <td>purchase</td>\n      <td>26402784</td>\n      <td>2053013563651392361</td>\n      <td>NaN</td>\n      <td>NaN</td>\n      <td>102.45</td>\n      <td>516604399</td>\n      <td>a98bd433-57ac-42d0-ba81-e18b135a7a16</td>\n    </tr>\n  </tbody>\n</table>\n<p>173425 rows × 9 columns</p>\n</div>"
     },
     "execution_count": 89,
     "metadata": {},
     "output_type": "execute_result"
    }
   ],
   "source": [
    "#구매했지만 카데고리를 알수 없는 상품\n",
    "csv[csv[\"event_type\"] == \"purchase\"][csv[\"category_code\"].isna()]"
   ],
   "metadata": {
    "collapsed": false,
    "pycharm": {
     "name": "#%%\n"
    }
   }
  },
  {
   "cell_type": "code",
   "execution_count": 90,
   "outputs": [
    {
     "name": "stderr",
     "output_type": "stream",
     "text": [
      "C:\\Users\\Gak\\AppData\\Local\\Temp/ipykernel_23092/691694810.py:2: UserWarning: Boolean Series key will be reindexed to match DataFrame index.\n",
      "  csv[csv[\"event_type\"] == \"cart\"][csv[\"category_code\"].isna()]\n"
     ]
    },
    {
     "data": {
      "text/plain": "                       event_time event_type  product_id          category_id  \\\n331       2019-10-01 00:05:14 UTC       cart     5100816  2053013553375346967   \n2146      2019-10-01 02:21:18 UTC       cart    17301342  2053013553853497655   \n3418      2019-10-01 02:24:45 UTC       cart     5100816  2053013553375346967   \n5616      2019-10-01 02:29:26 UTC       cart    12711630  2053013553559896355   \n5697      2019-10-01 02:29:37 UTC       cart    15300183  2053013552662315243   \n...                           ...        ...         ...                  ...   \n42444156  2019-10-31 23:21:29 UTC       cart    12704161  2053013553559896355   \n42447269  2019-10-31 23:48:03 UTC       cart     5100816  2053013553375346967   \n42447323  2019-10-31 23:48:35 UTC       cart    12705003  2053013553559896355   \n42447438  2019-10-31 23:49:29 UTC       cart    12705003  2053013553559896355   \n42447531  2019-10-31 23:50:16 UTC       cart    12705003  2053013553559896355   \n\n         category_code      brand   price    user_id  \\\n331                NaN     xiaomi   29.51  550121407   \n2146               NaN     lanvin   33.46  520186557   \n3418               NaN     xiaomi   29.51  549614436   \n5616               NaN   yokohama   74.65  547983294   \n5697               NaN  transcend    9.99  512805899   \n...                ...        ...     ...        ...   \n42444156           NaN    pirelli  131.28  566272569   \n42447269           NaN     xiaomi   29.58  514905226   \n42447323           NaN   cordiant   40.93  566237889   \n42447438           NaN   cordiant   40.93  566237889   \n42447531           NaN   cordiant   40.93  566237889   \n\n                                  user_session  \n331       6f623695-9581-4633-813f-825b8760c7ae  \n2146      88ede59b-8c8d-4546-b72b-bb71c00e8512  \n3418      6f43be89-497c-4bed-ad2c-aa548697b997  \n5616      32852dbe-87fe-4b14-bfb3-a29b77ed2655  \n5697      d33c0b40-21e8-4b72-ac4a-0d1b4a8cd697  \n...                                        ...  \n42444156  0fd1b6e0-cc8c-4f27-a664-574b00809604  \n42447269  6f25d2de-bb1c-4e68-b848-f03372fb6e7d  \n42447323  3924ad67-04ef-4dc5-a5b1-e76b1a0e6f5e  \n42447438  3924ad67-04ef-4dc5-a5b1-e76b1a0e6f5e  \n42447531  3924ad67-04ef-4dc5-a5b1-e76b1a0e6f5e  \n\n[105726 rows x 9 columns]",
      "text/html": "<div>\n<style scoped>\n    .dataframe tbody tr th:only-of-type {\n        vertical-align: middle;\n    }\n\n    .dataframe tbody tr th {\n        vertical-align: top;\n    }\n\n    .dataframe thead th {\n        text-align: right;\n    }\n</style>\n<table border=\"1\" class=\"dataframe\">\n  <thead>\n    <tr style=\"text-align: right;\">\n      <th></th>\n      <th>event_time</th>\n      <th>event_type</th>\n      <th>product_id</th>\n      <th>category_id</th>\n      <th>category_code</th>\n      <th>brand</th>\n      <th>price</th>\n      <th>user_id</th>\n      <th>user_session</th>\n    </tr>\n  </thead>\n  <tbody>\n    <tr>\n      <th>331</th>\n      <td>2019-10-01 00:05:14 UTC</td>\n      <td>cart</td>\n      <td>5100816</td>\n      <td>2053013553375346967</td>\n      <td>NaN</td>\n      <td>xiaomi</td>\n      <td>29.51</td>\n      <td>550121407</td>\n      <td>6f623695-9581-4633-813f-825b8760c7ae</td>\n    </tr>\n    <tr>\n      <th>2146</th>\n      <td>2019-10-01 02:21:18 UTC</td>\n      <td>cart</td>\n      <td>17301342</td>\n      <td>2053013553853497655</td>\n      <td>NaN</td>\n      <td>lanvin</td>\n      <td>33.46</td>\n      <td>520186557</td>\n      <td>88ede59b-8c8d-4546-b72b-bb71c00e8512</td>\n    </tr>\n    <tr>\n      <th>3418</th>\n      <td>2019-10-01 02:24:45 UTC</td>\n      <td>cart</td>\n      <td>5100816</td>\n      <td>2053013553375346967</td>\n      <td>NaN</td>\n      <td>xiaomi</td>\n      <td>29.51</td>\n      <td>549614436</td>\n      <td>6f43be89-497c-4bed-ad2c-aa548697b997</td>\n    </tr>\n    <tr>\n      <th>5616</th>\n      <td>2019-10-01 02:29:26 UTC</td>\n      <td>cart</td>\n      <td>12711630</td>\n      <td>2053013553559896355</td>\n      <td>NaN</td>\n      <td>yokohama</td>\n      <td>74.65</td>\n      <td>547983294</td>\n      <td>32852dbe-87fe-4b14-bfb3-a29b77ed2655</td>\n    </tr>\n    <tr>\n      <th>5697</th>\n      <td>2019-10-01 02:29:37 UTC</td>\n      <td>cart</td>\n      <td>15300183</td>\n      <td>2053013552662315243</td>\n      <td>NaN</td>\n      <td>transcend</td>\n      <td>9.99</td>\n      <td>512805899</td>\n      <td>d33c0b40-21e8-4b72-ac4a-0d1b4a8cd697</td>\n    </tr>\n    <tr>\n      <th>...</th>\n      <td>...</td>\n      <td>...</td>\n      <td>...</td>\n      <td>...</td>\n      <td>...</td>\n      <td>...</td>\n      <td>...</td>\n      <td>...</td>\n      <td>...</td>\n    </tr>\n    <tr>\n      <th>42444156</th>\n      <td>2019-10-31 23:21:29 UTC</td>\n      <td>cart</td>\n      <td>12704161</td>\n      <td>2053013553559896355</td>\n      <td>NaN</td>\n      <td>pirelli</td>\n      <td>131.28</td>\n      <td>566272569</td>\n      <td>0fd1b6e0-cc8c-4f27-a664-574b00809604</td>\n    </tr>\n    <tr>\n      <th>42447269</th>\n      <td>2019-10-31 23:48:03 UTC</td>\n      <td>cart</td>\n      <td>5100816</td>\n      <td>2053013553375346967</td>\n      <td>NaN</td>\n      <td>xiaomi</td>\n      <td>29.58</td>\n      <td>514905226</td>\n      <td>6f25d2de-bb1c-4e68-b848-f03372fb6e7d</td>\n    </tr>\n    <tr>\n      <th>42447323</th>\n      <td>2019-10-31 23:48:35 UTC</td>\n      <td>cart</td>\n      <td>12705003</td>\n      <td>2053013553559896355</td>\n      <td>NaN</td>\n      <td>cordiant</td>\n      <td>40.93</td>\n      <td>566237889</td>\n      <td>3924ad67-04ef-4dc5-a5b1-e76b1a0e6f5e</td>\n    </tr>\n    <tr>\n      <th>42447438</th>\n      <td>2019-10-31 23:49:29 UTC</td>\n      <td>cart</td>\n      <td>12705003</td>\n      <td>2053013553559896355</td>\n      <td>NaN</td>\n      <td>cordiant</td>\n      <td>40.93</td>\n      <td>566237889</td>\n      <td>3924ad67-04ef-4dc5-a5b1-e76b1a0e6f5e</td>\n    </tr>\n    <tr>\n      <th>42447531</th>\n      <td>2019-10-31 23:50:16 UTC</td>\n      <td>cart</td>\n      <td>12705003</td>\n      <td>2053013553559896355</td>\n      <td>NaN</td>\n      <td>cordiant</td>\n      <td>40.93</td>\n      <td>566237889</td>\n      <td>3924ad67-04ef-4dc5-a5b1-e76b1a0e6f5e</td>\n    </tr>\n  </tbody>\n</table>\n<p>105726 rows × 9 columns</p>\n</div>"
     },
     "execution_count": 90,
     "metadata": {},
     "output_type": "execute_result"
    }
   ],
   "source": [
    "#장바구니에 넣었지만지만 카데고리를 알수 없는 상품\n",
    "csv[csv[\"event_type\"] == \"cart\"][csv[\"category_code\"].isna()]"
   ],
   "metadata": {
    "collapsed": false,
    "pycharm": {
     "name": "#%%\n"
    }
   }
  },
  {
   "cell_type": "code",
   "execution_count": 91,
   "outputs": [
    {
     "data": {
      "text/plain": "0"
     },
     "execution_count": 91,
     "metadata": {},
     "output_type": "execute_result"
    }
   ],
   "source": [
    "#카데고리 코드 결측치 제거\n",
    "csv = csv[~csv[\"category_code\"].isna()]\n",
    "csv[\"category_code\"].isna().sum()"
   ],
   "metadata": {
    "collapsed": false,
    "pycharm": {
     "name": "#%%\n"
    }
   }
  },
  {
   "cell_type": "code",
   "execution_count": 92,
   "outputs": [
    {
     "data": {
      "text/plain": "                       event_time event_type  product_id          category_id  \\\n2         2019-10-01 00:00:01 UTC       view    17200506  2053013559792632471   \n31        2019-10-01 00:00:26 UTC       view    13500046  2053013557099889147   \n164       2019-10-01 00:02:16 UTC       view    17200142  2053013559792632471   \n168       2019-10-01 00:02:19 UTC       view    29800033  2053013559842964121   \n185       2019-10-01 00:02:30 UTC       view    21402696  2053013561579406073   \n...                           ...        ...         ...                  ...   \n42448741  2019-10-31 23:59:53 UTC       view    17200505  2053013559792632471   \n42448745  2019-10-31 23:59:53 UTC       view    14700176  2053013557133443581   \n42448746  2019-10-31 23:59:54 UTC       view     1002786  2053013555631882655   \n42448753  2019-10-31 23:59:57 UTC       view    21408491  2053013561579406073   \n42448754  2019-10-31 23:59:57 UTC       view    44300011  2100825583029060150   \n\n                          category_code brand   price    user_id  \\\n2            furniture.living_room.sofa   NaN  543.10  519107250   \n31                furniture.bedroom.bed   NaN   60.75  555446365   \n164          furniture.living_room.sofa   NaN  543.10  555446365   \n168         furniture.living_room.chair   NaN  169.86  555306597   \n185                  electronics.clocks   NaN   24.97  525856698   \n...                                 ...   ...     ...        ...   \n42448741     furniture.living_room.sofa   NaN  543.10  557880508   \n42448745  furniture.living_room.cabinet   NaN  237.59  512887245   \n42448746         electronics.smartphone   NaN  391.26  512789086   \n42448753             electronics.clocks   NaN  350.07  553802615   \n42448754                  apparel.jeans   NaN   50.45  545220871   \n\n                                  user_session  \n2         566511c2-e2e3-422b-b695-cf8e6e792ca8  \n31        7f0062d8-ead0-4e0a-96f6-43a0b79a2fc4  \n164       7f0062d8-ead0-4e0a-96f6-43a0b79a2fc4  \n168       3a374230-2ac7-429d-8fe0-92ad8fdc6b28  \n185       f72ea16b-4ec3-44f8-8fcd-35d89984b744  \n...                                        ...  \n42448741  4a9bfeae-21f3-40d9-a8db-bb7720c521a5  \n42448745  f48492eb-b354-4d0b-a6c8-796e2fb04962  \n42448746  cc782b99-88ab-4573-8311-c62e1d447757  \n42448753  e09684bb-0c95-4f67-98d1-59fc593f3890  \n42448754  f278cca0-e0f6-49a3-819a-d961998282d5  \n\n[2372533 rows x 9 columns]",
      "text/html": "<div>\n<style scoped>\n    .dataframe tbody tr th:only-of-type {\n        vertical-align: middle;\n    }\n\n    .dataframe tbody tr th {\n        vertical-align: top;\n    }\n\n    .dataframe thead th {\n        text-align: right;\n    }\n</style>\n<table border=\"1\" class=\"dataframe\">\n  <thead>\n    <tr style=\"text-align: right;\">\n      <th></th>\n      <th>event_time</th>\n      <th>event_type</th>\n      <th>product_id</th>\n      <th>category_id</th>\n      <th>category_code</th>\n      <th>brand</th>\n      <th>price</th>\n      <th>user_id</th>\n      <th>user_session</th>\n    </tr>\n  </thead>\n  <tbody>\n    <tr>\n      <th>2</th>\n      <td>2019-10-01 00:00:01 UTC</td>\n      <td>view</td>\n      <td>17200506</td>\n      <td>2053013559792632471</td>\n      <td>furniture.living_room.sofa</td>\n      <td>NaN</td>\n      <td>543.10</td>\n      <td>519107250</td>\n      <td>566511c2-e2e3-422b-b695-cf8e6e792ca8</td>\n    </tr>\n    <tr>\n      <th>31</th>\n      <td>2019-10-01 00:00:26 UTC</td>\n      <td>view</td>\n      <td>13500046</td>\n      <td>2053013557099889147</td>\n      <td>furniture.bedroom.bed</td>\n      <td>NaN</td>\n      <td>60.75</td>\n      <td>555446365</td>\n      <td>7f0062d8-ead0-4e0a-96f6-43a0b79a2fc4</td>\n    </tr>\n    <tr>\n      <th>164</th>\n      <td>2019-10-01 00:02:16 UTC</td>\n      <td>view</td>\n      <td>17200142</td>\n      <td>2053013559792632471</td>\n      <td>furniture.living_room.sofa</td>\n      <td>NaN</td>\n      <td>543.10</td>\n      <td>555446365</td>\n      <td>7f0062d8-ead0-4e0a-96f6-43a0b79a2fc4</td>\n    </tr>\n    <tr>\n      <th>168</th>\n      <td>2019-10-01 00:02:19 UTC</td>\n      <td>view</td>\n      <td>29800033</td>\n      <td>2053013559842964121</td>\n      <td>furniture.living_room.chair</td>\n      <td>NaN</td>\n      <td>169.86</td>\n      <td>555306597</td>\n      <td>3a374230-2ac7-429d-8fe0-92ad8fdc6b28</td>\n    </tr>\n    <tr>\n      <th>185</th>\n      <td>2019-10-01 00:02:30 UTC</td>\n      <td>view</td>\n      <td>21402696</td>\n      <td>2053013561579406073</td>\n      <td>electronics.clocks</td>\n      <td>NaN</td>\n      <td>24.97</td>\n      <td>525856698</td>\n      <td>f72ea16b-4ec3-44f8-8fcd-35d89984b744</td>\n    </tr>\n    <tr>\n      <th>...</th>\n      <td>...</td>\n      <td>...</td>\n      <td>...</td>\n      <td>...</td>\n      <td>...</td>\n      <td>...</td>\n      <td>...</td>\n      <td>...</td>\n      <td>...</td>\n    </tr>\n    <tr>\n      <th>42448741</th>\n      <td>2019-10-31 23:59:53 UTC</td>\n      <td>view</td>\n      <td>17200505</td>\n      <td>2053013559792632471</td>\n      <td>furniture.living_room.sofa</td>\n      <td>NaN</td>\n      <td>543.10</td>\n      <td>557880508</td>\n      <td>4a9bfeae-21f3-40d9-a8db-bb7720c521a5</td>\n    </tr>\n    <tr>\n      <th>42448745</th>\n      <td>2019-10-31 23:59:53 UTC</td>\n      <td>view</td>\n      <td>14700176</td>\n      <td>2053013557133443581</td>\n      <td>furniture.living_room.cabinet</td>\n      <td>NaN</td>\n      <td>237.59</td>\n      <td>512887245</td>\n      <td>f48492eb-b354-4d0b-a6c8-796e2fb04962</td>\n    </tr>\n    <tr>\n      <th>42448746</th>\n      <td>2019-10-31 23:59:54 UTC</td>\n      <td>view</td>\n      <td>1002786</td>\n      <td>2053013555631882655</td>\n      <td>electronics.smartphone</td>\n      <td>NaN</td>\n      <td>391.26</td>\n      <td>512789086</td>\n      <td>cc782b99-88ab-4573-8311-c62e1d447757</td>\n    </tr>\n    <tr>\n      <th>42448753</th>\n      <td>2019-10-31 23:59:57 UTC</td>\n      <td>view</td>\n      <td>21408491</td>\n      <td>2053013561579406073</td>\n      <td>electronics.clocks</td>\n      <td>NaN</td>\n      <td>350.07</td>\n      <td>553802615</td>\n      <td>e09684bb-0c95-4f67-98d1-59fc593f3890</td>\n    </tr>\n    <tr>\n      <th>42448754</th>\n      <td>2019-10-31 23:59:57 UTC</td>\n      <td>view</td>\n      <td>44300011</td>\n      <td>2100825583029060150</td>\n      <td>apparel.jeans</td>\n      <td>NaN</td>\n      <td>50.45</td>\n      <td>545220871</td>\n      <td>f278cca0-e0f6-49a3-819a-d961998282d5</td>\n    </tr>\n  </tbody>\n</table>\n<p>2372533 rows × 9 columns</p>\n</div>"
     },
     "execution_count": 92,
     "metadata": {},
     "output_type": "execute_result"
    }
   ],
   "source": [
    "#브랜드 살짝보기\n",
    "filter_brandnull = csv[\"brand\"].isna()\n",
    "csv[filter_brandnull]"
   ],
   "metadata": {
    "collapsed": false,
    "pycharm": {
     "name": "#%%\n"
    }
   }
  },
  {
   "cell_type": "code",
   "execution_count": 93,
   "outputs": [
    {
     "data": {
      "text/plain": "2"
     },
     "execution_count": 93,
     "metadata": {},
     "output_type": "execute_result"
    }
   ],
   "source": [
    "csv[\"user_session\"].isna().sum()"
   ],
   "metadata": {
    "collapsed": false,
    "pycharm": {
     "name": "#%%\n"
    }
   }
  },
  {
   "cell_type": "code",
   "execution_count": 94,
   "outputs": [
    {
     "data": {
      "text/plain": "                       event_time event_type  product_id          category_id  \\\n7157243   2019-10-06 14:26:10 UTC       cart     1801723  2053013554415534427   \n33940774  2019-10-25 10:36:14 UTC       cart     1004767  2053013555631882655   \n\n                   category_code    brand   price    user_id user_session  \n7157243     electronics.video.tv      tcl  135.65  557388939          NaN  \n33940774  electronics.smartphone  samsung  246.52  549825742          NaN  ",
      "text/html": "<div>\n<style scoped>\n    .dataframe tbody tr th:only-of-type {\n        vertical-align: middle;\n    }\n\n    .dataframe tbody tr th {\n        vertical-align: top;\n    }\n\n    .dataframe thead th {\n        text-align: right;\n    }\n</style>\n<table border=\"1\" class=\"dataframe\">\n  <thead>\n    <tr style=\"text-align: right;\">\n      <th></th>\n      <th>event_time</th>\n      <th>event_type</th>\n      <th>product_id</th>\n      <th>category_id</th>\n      <th>category_code</th>\n      <th>brand</th>\n      <th>price</th>\n      <th>user_id</th>\n      <th>user_session</th>\n    </tr>\n  </thead>\n  <tbody>\n    <tr>\n      <th>7157243</th>\n      <td>2019-10-06 14:26:10 UTC</td>\n      <td>cart</td>\n      <td>1801723</td>\n      <td>2053013554415534427</td>\n      <td>electronics.video.tv</td>\n      <td>tcl</td>\n      <td>135.65</td>\n      <td>557388939</td>\n      <td>NaN</td>\n    </tr>\n    <tr>\n      <th>33940774</th>\n      <td>2019-10-25 10:36:14 UTC</td>\n      <td>cart</td>\n      <td>1004767</td>\n      <td>2053013555631882655</td>\n      <td>electronics.smartphone</td>\n      <td>samsung</td>\n      <td>246.52</td>\n      <td>549825742</td>\n      <td>NaN</td>\n    </tr>\n  </tbody>\n</table>\n</div>"
     },
     "execution_count": 94,
     "metadata": {},
     "output_type": "execute_result"
    }
   ],
   "source": [
    "#세션 살짝보기\n",
    "filter_sessionnull = csv[\"user_session\"].isna()\n",
    "csv[filter_sessionnull]"
   ],
   "metadata": {
    "collapsed": false,
    "pycharm": {
     "name": "#%%\n"
    }
   }
  },
  {
   "cell_type": "code",
   "execution_count": 95,
   "outputs": [
    {
     "name": "stderr",
     "output_type": "stream",
     "text": [
      "C:\\Users\\Gak\\AppData\\Local\\Temp/ipykernel_23092/826604748.py:1: UserWarning: Boolean Series key will be reindexed to match DataFrame index.\n",
      "  csv[csv[\"product_id\"] == 1801723][csv[\"user_id\"] == 557388939]\n"
     ]
    },
    {
     "data": {
      "text/plain": "                      event_time event_type  product_id          category_id  \\\n7156089  2019-10-06 14:25:18 UTC       view     1801723  2053013554415534427   \n7157243  2019-10-06 14:26:10 UTC       cart     1801723  2053013554415534427   \n8123931  2019-10-07 10:15:39 UTC       view     1801723  2053013554415534427   \n\n                category_code brand   price    user_id  \\\n7156089  electronics.video.tv   tcl  135.65  557388939   \n7157243  electronics.video.tv   tcl  135.65  557388939   \n8123931  electronics.video.tv   tcl  135.65  557388939   \n\n                                 user_session  \n7156089  9c11ac2d-5c56-4994-87e4-ea077ab0ab45  \n7157243                                   NaN  \n8123931  083ceaa9-32d0-4e45-a67c-40bfaba0a275  ",
      "text/html": "<div>\n<style scoped>\n    .dataframe tbody tr th:only-of-type {\n        vertical-align: middle;\n    }\n\n    .dataframe tbody tr th {\n        vertical-align: top;\n    }\n\n    .dataframe thead th {\n        text-align: right;\n    }\n</style>\n<table border=\"1\" class=\"dataframe\">\n  <thead>\n    <tr style=\"text-align: right;\">\n      <th></th>\n      <th>event_time</th>\n      <th>event_type</th>\n      <th>product_id</th>\n      <th>category_id</th>\n      <th>category_code</th>\n      <th>brand</th>\n      <th>price</th>\n      <th>user_id</th>\n      <th>user_session</th>\n    </tr>\n  </thead>\n  <tbody>\n    <tr>\n      <th>7156089</th>\n      <td>2019-10-06 14:25:18 UTC</td>\n      <td>view</td>\n      <td>1801723</td>\n      <td>2053013554415534427</td>\n      <td>electronics.video.tv</td>\n      <td>tcl</td>\n      <td>135.65</td>\n      <td>557388939</td>\n      <td>9c11ac2d-5c56-4994-87e4-ea077ab0ab45</td>\n    </tr>\n    <tr>\n      <th>7157243</th>\n      <td>2019-10-06 14:26:10 UTC</td>\n      <td>cart</td>\n      <td>1801723</td>\n      <td>2053013554415534427</td>\n      <td>electronics.video.tv</td>\n      <td>tcl</td>\n      <td>135.65</td>\n      <td>557388939</td>\n      <td>NaN</td>\n    </tr>\n    <tr>\n      <th>8123931</th>\n      <td>2019-10-07 10:15:39 UTC</td>\n      <td>view</td>\n      <td>1801723</td>\n      <td>2053013554415534427</td>\n      <td>electronics.video.tv</td>\n      <td>tcl</td>\n      <td>135.65</td>\n      <td>557388939</td>\n      <td>083ceaa9-32d0-4e45-a67c-40bfaba0a275</td>\n    </tr>\n  </tbody>\n</table>\n</div>"
     },
     "execution_count": 95,
     "metadata": {},
     "output_type": "execute_result"
    }
   ],
   "source": [
    "csv[csv[\"product_id\"] == 1801723][csv[\"user_id\"] == 557388939]"
   ],
   "metadata": {
    "collapsed": false,
    "pycharm": {
     "name": "#%%\n"
    }
   }
  },
  {
   "cell_type": "code",
   "execution_count": 96,
   "outputs": [
    {
     "name": "stderr",
     "output_type": "stream",
     "text": [
      "C:\\Users\\Gak\\AppData\\Local\\Temp/ipykernel_23092/2367551814.py:1: UserWarning: Boolean Series key will be reindexed to match DataFrame index.\n",
      "  csv[csv[\"product_id\"] == 1004767][csv[\"user_id\"] == 549825742]\n"
     ]
    },
    {
     "data": {
      "text/plain": "                       event_time event_type  product_id          category_id  \\\n33820866  2019-10-25 09:01:50 UTC       view     1004767  2053013555631882655   \n33834071  2019-10-25 09:12:12 UTC       cart     1004767  2053013555631882655   \n33834776  2019-10-25 09:12:42 UTC       cart     1004767  2053013555631882655   \n33835027  2019-10-25 09:12:52 UTC       cart     1004767  2053013555631882655   \n33840806  2019-10-25 09:17:05 UTC       cart     1004767  2053013555631882655   \n33940774  2019-10-25 10:36:14 UTC       cart     1004767  2053013555631882655   \n\n                   category_code    brand   price    user_id  \\\n33820866  electronics.smartphone  samsung  246.52  549825742   \n33834071  electronics.smartphone  samsung  246.52  549825742   \n33834776  electronics.smartphone  samsung  246.52  549825742   \n33835027  electronics.smartphone  samsung  246.52  549825742   \n33840806  electronics.smartphone  samsung  246.52  549825742   \n33940774  electronics.smartphone  samsung  246.52  549825742   \n\n                                  user_session  \n33820866  aac8b299-4355-4c25-bbfe-c0369f19a3ce  \n33834071  aac8b299-4355-4c25-bbfe-c0369f19a3ce  \n33834776  aac8b299-4355-4c25-bbfe-c0369f19a3ce  \n33835027  aac8b299-4355-4c25-bbfe-c0369f19a3ce  \n33840806  aac8b299-4355-4c25-bbfe-c0369f19a3ce  \n33940774                                   NaN  ",
      "text/html": "<div>\n<style scoped>\n    .dataframe tbody tr th:only-of-type {\n        vertical-align: middle;\n    }\n\n    .dataframe tbody tr th {\n        vertical-align: top;\n    }\n\n    .dataframe thead th {\n        text-align: right;\n    }\n</style>\n<table border=\"1\" class=\"dataframe\">\n  <thead>\n    <tr style=\"text-align: right;\">\n      <th></th>\n      <th>event_time</th>\n      <th>event_type</th>\n      <th>product_id</th>\n      <th>category_id</th>\n      <th>category_code</th>\n      <th>brand</th>\n      <th>price</th>\n      <th>user_id</th>\n      <th>user_session</th>\n    </tr>\n  </thead>\n  <tbody>\n    <tr>\n      <th>33820866</th>\n      <td>2019-10-25 09:01:50 UTC</td>\n      <td>view</td>\n      <td>1004767</td>\n      <td>2053013555631882655</td>\n      <td>electronics.smartphone</td>\n      <td>samsung</td>\n      <td>246.52</td>\n      <td>549825742</td>\n      <td>aac8b299-4355-4c25-bbfe-c0369f19a3ce</td>\n    </tr>\n    <tr>\n      <th>33834071</th>\n      <td>2019-10-25 09:12:12 UTC</td>\n      <td>cart</td>\n      <td>1004767</td>\n      <td>2053013555631882655</td>\n      <td>electronics.smartphone</td>\n      <td>samsung</td>\n      <td>246.52</td>\n      <td>549825742</td>\n      <td>aac8b299-4355-4c25-bbfe-c0369f19a3ce</td>\n    </tr>\n    <tr>\n      <th>33834776</th>\n      <td>2019-10-25 09:12:42 UTC</td>\n      <td>cart</td>\n      <td>1004767</td>\n      <td>2053013555631882655</td>\n      <td>electronics.smartphone</td>\n      <td>samsung</td>\n      <td>246.52</td>\n      <td>549825742</td>\n      <td>aac8b299-4355-4c25-bbfe-c0369f19a3ce</td>\n    </tr>\n    <tr>\n      <th>33835027</th>\n      <td>2019-10-25 09:12:52 UTC</td>\n      <td>cart</td>\n      <td>1004767</td>\n      <td>2053013555631882655</td>\n      <td>electronics.smartphone</td>\n      <td>samsung</td>\n      <td>246.52</td>\n      <td>549825742</td>\n      <td>aac8b299-4355-4c25-bbfe-c0369f19a3ce</td>\n    </tr>\n    <tr>\n      <th>33840806</th>\n      <td>2019-10-25 09:17:05 UTC</td>\n      <td>cart</td>\n      <td>1004767</td>\n      <td>2053013555631882655</td>\n      <td>electronics.smartphone</td>\n      <td>samsung</td>\n      <td>246.52</td>\n      <td>549825742</td>\n      <td>aac8b299-4355-4c25-bbfe-c0369f19a3ce</td>\n    </tr>\n    <tr>\n      <th>33940774</th>\n      <td>2019-10-25 10:36:14 UTC</td>\n      <td>cart</td>\n      <td>1004767</td>\n      <td>2053013555631882655</td>\n      <td>electronics.smartphone</td>\n      <td>samsung</td>\n      <td>246.52</td>\n      <td>549825742</td>\n      <td>NaN</td>\n    </tr>\n  </tbody>\n</table>\n</div>"
     },
     "execution_count": 96,
     "metadata": {},
     "output_type": "execute_result"
    }
   ],
   "source": [
    "csv[csv[\"product_id\"] == 1004767][csv[\"user_id\"] == 549825742]"
   ],
   "metadata": {
    "collapsed": false,
    "pycharm": {
     "name": "#%%\n"
    }
   }
  },
  {
   "cell_type": "code",
   "execution_count": 97,
   "outputs": [
    {
     "data": {
      "text/plain": "0"
     },
     "execution_count": 97,
     "metadata": {},
     "output_type": "execute_result"
    }
   ],
   "source": [
    "#세션 결측치 제거\n",
    "csv = csv[~csv[\"user_session\"].isna()]\n",
    "csv[\"user_session\"].isna().sum()"
   ],
   "metadata": {
    "collapsed": false,
    "pycharm": {
     "name": "#%%\n"
    }
   }
  },
  {
   "cell_type": "code",
   "execution_count": 98,
   "outputs": [
    {
     "data": {
      "text/plain": "user_id\n512475445    6703\n512365995    3986\n512505687    2886\n513021392    2860\n514649263    2377\n             ... \n551637787       1\n551637835       1\n551637864       1\n551637891       1\n566280697       1\nName: user_session, Length: 2408159, dtype: int64"
     },
     "execution_count": 98,
     "metadata": {},
     "output_type": "execute_result"
    }
   ],
   "source": [
    "#쇼핑활동을 많이하는 사람\n",
    "longer_user = csv.groupby(\"user_id\")[\"user_session\"].count().sort_values(ascending=False)\n",
    "longer_user"
   ],
   "metadata": {
    "collapsed": false,
    "pycharm": {
     "name": "#%%\n"
    }
   }
  },
  {
   "cell_type": "code",
   "execution_count": 99,
   "outputs": [],
   "source": [
    "shoper20 = longer_user[:20].reset_index()"
   ],
   "metadata": {
    "collapsed": false,
    "pycharm": {
     "name": "#%%\n"
    }
   }
  },
  {
   "cell_type": "code",
   "execution_count": 100,
   "outputs": [
    {
     "data": {
      "text/plain": "<BarContainer object of 20 artists>"
     },
     "execution_count": 100,
     "metadata": {},
     "output_type": "execute_result"
    },
    {
     "data": {
      "text/plain": "<Figure size 576x576 with 1 Axes>",
      "image/png": "[encoded data removed]"
     },
     "metadata": {
      "needs_background": "light"
     },
     "output_type": "display_data"
    }
   ],
   "source": [
    "plt.bar(shoper20[\"user_id\"].astype(str)\n",
    "        , shoper20[\"user_session\"].astype(\"int64\")\n",
    "        )"
   ],
   "metadata": {
    "collapsed": false,
    "pycharm": {
     "name": "#%%\n"
    }
   }
  },
  {
   "cell_type": "code",
   "execution_count": 101,
   "outputs": [],
   "source": [
    "#매출액이 높은 고객\n",
    "buyer = csv[csv[\"event_type\"] == \"purchase\"].groupby(\"user_id\")[\"price\"].sum().sort_values(ascending=False)"
   ],
   "metadata": {
    "collapsed": false,
    "pycharm": {
     "name": "#%%\n"
    }
   }
  },
  {
   "cell_type": "code",
   "execution_count": 102,
   "outputs": [
    {
     "data": {
      "text/plain": "<BarContainer object of 20 artists>"
     },
     "execution_count": 102,
     "metadata": {},
     "output_type": "execute_result"
    },
    {
     "data": {
      "text/plain": "<Figure size 576x576 with 1 Axes>",
      "image/png": "[encoded data removed]"
     },
     "metadata": {
      "needs_background": "light"
     },
     "output_type": "display_data"
    }
   ],
   "source": [
    "buyer20 = buyer[:20].reset_index()\n",
    "plt.bar(buyer20[\"user_id\"].astype(str)\n",
    "        , buyer20[\"price\"].astype(\"int64\")\n",
    "        )"
   ],
   "metadata": {
    "collapsed": false,
    "pycharm": {
     "name": "#%%\n"
    }
   }
  },
  {
   "cell_type": "code",
   "execution_count": 103,
   "outputs": [
    {
     "data": {
      "text/plain": "                       event_time event_type  product_id          category_id  \\\n583       2019-10-01 00:09:33 UTC       cart     1002524  2053013555631882655   \n680       2019-10-01 00:11:00 UTC       cart     4804056  2053013554658804075   \n1325      2019-10-01 02:17:59 UTC       cart     1004833  2053013555631882655   \n1654      2019-10-01 02:19:36 UTC       cart     1005003  2053013555631882655   \n1684      2019-10-01 02:19:43 UTC       cart     1004750  2053013555631882655   \n...                           ...        ...         ...                  ...   \n42447907  2019-10-31 23:53:29 UTC       cart     1004767  2053013555631882655   \n42448124  2019-10-31 23:55:07 UTC       cart     1005134  2053013555631882655   \n42448135  2019-10-31 23:55:10 UTC       cart     1005134  2053013555631882655   \n42448156  2019-10-31 23:55:14 UTC       cart     1003306  2053013555631882655   \n42448292  2019-10-31 23:56:11 UTC       cart     1004240  2053013555631882655   \n\n                        category_code    brand    price    user_id  \\\n583            electronics.smartphone    apple   515.67  524325294   \n680       electronics.audio.headphone    apple   161.98  533624186   \n1325           electronics.smartphone  samsung   174.76  536415846   \n1654           electronics.smartphone   huawei   258.21  513632293   \n1684           electronics.smartphone  samsung   197.43  555110488   \n...                               ...      ...      ...        ...   \n42447907       electronics.smartphone  samsung   242.63  542774966   \n42448124       electronics.smartphone    apple  1889.07  566280291   \n42448135       electronics.smartphone    apple  1889.07  566280291   \n42448156       electronics.smartphone    apple   577.89  512717356   \n42448292       electronics.smartphone    apple  1054.60  533892594   \n\n                                  user_session  \n583       0b74a829-f9d7-4654-b5b0-35bc9822c238  \n680       e5ac3caa-e6d5-4d6b-ae06-2c18cd9ca683  \n1325      685b5b42-f597-4a69-ab4c-ef96a30bc454  \n1654      f2cc68f7-39d1-4a50-9dcf-f2a0921bdfda  \n1684      ce885079-4d92-4fe6-92a3-377c5a2d8291  \n...                                        ...  \n42447907  957dc70c-31d3-42b7-aef0-2d2827c35251  \n42448124  20715c6f-d6fc-4ed4-9d48-c7c2b5d03602  \n42448135  20715c6f-d6fc-4ed4-9d48-c7c2b5d03602  \n42448156  f35ac37c-9573-4e30-b3d9-c09bb0b95a2b  \n42448292  3a5a3b01-2ab1-4a1d-a202-30d336e0057b  \n\n[820788 rows x 9 columns]",
      "text/html": "<div>\n<style scoped>\n    .dataframe tbody tr th:only-of-type {\n        vertical-align: middle;\n    }\n\n    .dataframe tbody tr th {\n        vertical-align: top;\n    }\n\n    .dataframe thead th {\n        text-align: right;\n    }\n</style>\n<table border=\"1\" class=\"dataframe\">\n  <thead>\n    <tr style=\"text-align: right;\">\n      <th></th>\n      <th>event_time</th>\n      <th>event_type</th>\n      <th>product_id</th>\n      <th>category_id</th>\n      <th>category_code</th>\n      <th>brand</th>\n      <th>price</th>\n      <th>user_id</th>\n      <th>user_session</th>\n    </tr>\n  </thead>\n  <tbody>\n    <tr>\n      <th>583</th>\n      <td>2019-10-01 00:09:33 UTC</td>\n      <td>cart</td>\n      <td>1002524</td>\n      <td>2053013555631882655</td>\n      <td>electronics.smartphone</td>\n      <td>apple</td>\n      <td>515.67</td>\n      <td>524325294</td>\n      <td>0b74a829-f9d7-4654-b5b0-35bc9822c238</td>\n    </tr>\n    <tr>\n      <th>680</th>\n      <td>2019-10-01 00:11:00 UTC</td>\n      <td>cart</td>\n      <td>4804056</td>\n      <td>2053013554658804075</td>\n      <td>electronics.audio.headphone</td>\n      <td>apple</td>\n      <td>161.98</td>\n      <td>533624186</td>\n      <td>e5ac3caa-e6d5-4d6b-ae06-2c18cd9ca683</td>\n    </tr>\n    <tr>\n      <th>1325</th>\n      <td>2019-10-01 02:17:59 UTC</td>\n      <td>cart</td>\n      <td>1004833</td>\n      <td>2053013555631882655</td>\n      <td>electronics.smartphone</td>\n      <td>samsung</td>\n      <td>174.76</td>\n      <td>536415846</td>\n      <td>685b5b42-f597-4a69-ab4c-ef96a30bc454</td>\n    </tr>\n    <tr>\n      <th>1654</th>\n      <td>2019-10-01 02:19:36 UTC</td>\n      <td>cart</td>\n      <td>1005003</td>\n      <td>2053013555631882655</td>\n      <td>electronics.smartphone</td>\n      <td>huawei</td>\n      <td>258.21</td>\n      <td>513632293</td>\n      <td>f2cc68f7-39d1-4a50-9dcf-f2a0921bdfda</td>\n    </tr>\n    <tr>\n      <th>1684</th>\n      <td>2019-10-01 02:19:43 UTC</td>\n      <td>cart</td>\n      <td>1004750</td>\n      <td>2053013555631882655</td>\n      <td>electronics.smartphone</td>\n      <td>samsung</td>\n      <td>197.43</td>\n      <td>555110488</td>\n      <td>ce885079-4d92-4fe6-92a3-377c5a2d8291</td>\n    </tr>\n    <tr>\n      <th>...</th>\n      <td>...</td>\n      <td>...</td>\n      <td>...</td>\n      <td>...</td>\n      <td>...</td>\n      <td>...</td>\n      <td>...</td>\n      <td>...</td>\n      <td>...</td>\n    </tr>\n    <tr>\n      <th>42447907</th>\n      <td>2019-10-31 23:53:29 UTC</td>\n      <td>cart</td>\n      <td>1004767</td>\n      <td>2053013555631882655</td>\n      <td>electronics.smartphone</td>\n      <td>samsung</td>\n      <td>242.63</td>\n      <td>542774966</td>\n      <td>957dc70c-31d3-42b7-aef0-2d2827c35251</td>\n    </tr>\n    <tr>\n      <th>42448124</th>\n      <td>2019-10-31 23:55:07 UTC</td>\n      <td>cart</td>\n      <td>1005134</td>\n      <td>2053013555631882655</td>\n      <td>electronics.smartphone</td>\n      <td>apple</td>\n      <td>1889.07</td>\n      <td>566280291</td>\n      <td>20715c6f-d6fc-4ed4-9d48-c7c2b5d03602</td>\n    </tr>\n    <tr>\n      <th>42448135</th>\n      <td>2019-10-31 23:55:10 UTC</td>\n      <td>cart</td>\n      <td>1005134</td>\n      <td>2053013555631882655</td>\n      <td>electronics.smartphone</td>\n      <td>apple</td>\n      <td>1889.07</td>\n      <td>566280291</td>\n      <td>20715c6f-d6fc-4ed4-9d48-c7c2b5d03602</td>\n    </tr>\n    <tr>\n      <th>42448156</th>\n      <td>2019-10-31 23:55:14 UTC</td>\n      <td>cart</td>\n      <td>1003306</td>\n      <td>2053013555631882655</td>\n      <td>electronics.smartphone</td>\n      <td>apple</td>\n      <td>577.89</td>\n      <td>512717356</td>\n      <td>f35ac37c-9573-4e30-b3d9-c09bb0b95a2b</td>\n    </tr>\n    <tr>\n      <th>42448292</th>\n      <td>2019-10-31 23:56:11 UTC</td>\n      <td>cart</td>\n      <td>1004240</td>\n      <td>2053013555631882655</td>\n      <td>electronics.smartphone</td>\n      <td>apple</td>\n      <td>1054.60</td>\n      <td>533892594</td>\n      <td>3a5a3b01-2ab1-4a1d-a202-30d336e0057b</td>\n    </tr>\n  </tbody>\n</table>\n<p>820788 rows × 9 columns</p>\n</div>"
     },
     "execution_count": 103,
     "metadata": {},
     "output_type": "execute_result"
    }
   ],
   "source": [
    "#아직안쓰임\n",
    "csv[csv[\"event_type\"] == \"cart\"]"
   ],
   "metadata": {
    "collapsed": false,
    "pycharm": {
     "name": "#%%\n"
    }
   }
  },
  {
   "cell_type": "code",
   "execution_count": 104,
   "outputs": [],
   "source": [
    "def is_depth2(df):\n",
    "        splitted = df.split(\".\")\n",
    "        length = len(splitted)\n",
    "        if length == 3:\n",
    "                return splitted[2]\n",
    "        elif length == 2:\n",
    "                return splitted[1]\n",
    "\n",
    "csv[\"depth1\"] = csv[\"category_code\"].apply(lambda x : x.split(\".\")[0])\n",
    "csv[\"depth2\"] = csv[\"category_code\"].apply(is_depth2)"
   ],
   "metadata": {
    "collapsed": false,
    "pycharm": {
     "name": "#%%\n"
    }
   }
  },
  {
   "cell_type": "code",
   "execution_count": 105,
   "outputs": [],
   "source": [
    "csv.to_csv('./2019-Oct-depth.csv')"
   ],
   "metadata": {
    "collapsed": false,
    "pycharm": {
     "name": "#%%\n"
    }
   }
  }
 ],
 "metadata": {
  "kernelspec": {
   "display_name": "Python 3",
   "language": "python",
   "name": "python3"
  },
  "language_info": {
   "codemirror_mode": {
    "name": "ipython",
    "version": 2
   },
   "file_extension": ".py",
   "mimetype": "text/x-python",
   "name": "python",
   "nbconvert_exporter": "python",
   "pygments_lexer": "ipython2",
   "version": "2.7.6"
  }
 },
 "nbformat": 4,
 "nbformat_minor": 0
}