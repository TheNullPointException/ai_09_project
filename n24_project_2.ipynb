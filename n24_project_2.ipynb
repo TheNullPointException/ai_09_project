{
 "cells": [
  {
   "cell_type": "code",
   "execution_count": 106,
   "metadata": {
    "collapsed": true
   },
   "outputs": [],
   "source": [
    "import pandas as pd\n",
    "import numpy as np"
   ]
  },
  {
   "cell_type": "code",
   "execution_count": 107,
   "outputs": [],
   "source": [
    "df = pd.read_csv(\"./2019-Oct-depth.csv\")"
   ],
   "metadata": {
    "collapsed": false,
    "pycharm": {
     "name": "#%%\n"
    }
   }
  },
  {
   "cell_type": "code",
   "execution_count": 108,
   "outputs": [
    {
     "name": "stdout",
     "output_type": "stream",
     "text": [
      "<class 'pandas.core.frame.DataFrame'>\n",
      "RangeIndex: 28933153 entries, 0 to 28933152\n",
      "Data columns (total 12 columns):\n",
      " #   Column         Dtype  \n",
      "---  ------         -----  \n",
      " 0   Unnamed: 0     int64  \n",
      " 1   event_time     object \n",
      " 2   event_type     object \n",
      " 3   product_id     int64  \n",
      " 4   category_id    int64  \n",
      " 5   category_code  object \n",
      " 6   brand          object \n",
      " 7   price          float64\n",
      " 8   user_id        int64  \n",
      " 9   user_session   object \n",
      " 10  depth1         object \n",
      " 11  depth2         object \n",
      "dtypes: float64(1), int64(4), object(7)\n",
      "memory usage: 2.6+ GB\n"
     ]
    }
   ],
   "source": [
    "df.info()"
   ],
   "metadata": {
    "collapsed": false,
    "pycharm": {
     "name": "#%%\n"
    }
   }
  },
  {
   "cell_type": "code",
   "execution_count": 109,
   "outputs": [
    {
     "data": {
      "text/plain": "False    554998\nTrue     265790\ndtype: int64"
     },
     "execution_count": 109,
     "metadata": {},
     "output_type": "execute_result"
    }
   ],
   "source": [
    "#여러개 카트에 넣은 경우\n",
    "df[df[\"event_type\"] == \"cart\"][[\"event_type\", \"product_id\", \"price\", \"user_id\", \"user_session\"]].duplicated().value_counts()"
   ],
   "metadata": {
    "collapsed": false,
    "pycharm": {
     "name": "#%%\n"
    }
   }
  },
  {
   "cell_type": "code",
   "execution_count": 110,
   "outputs": [
    {
     "data": {
      "text/plain": "False    526449\nTrue      42975\ndtype: int64"
     },
     "execution_count": 110,
     "metadata": {},
     "output_type": "execute_result"
    }
   ],
   "source": [
    "#여러개 구매한 경우\n",
    "df[df[\"event_type\"] == \"purchase\"][[\"event_type\", \"product_id\", \"price\", \"user_id\", \"user_session\"]].duplicated().value_counts()"
   ],
   "metadata": {
    "collapsed": false,
    "pycharm": {
     "name": "#%%\n"
    }
   }
  },
  {
   "cell_type": "code",
   "execution_count": 111,
   "outputs": [
    {
     "data": {
      "text/plain": "          Unnamed: 0               event_time event_type  product_id  \\\n113              162  2019-10-01 00:02:14 UTC   purchase     1004856   \n208              308  2019-10-01 00:04:37 UTC   purchase     1002532   \n285              442  2019-10-01 00:07:07 UTC   purchase    13800054   \n361              574  2019-10-01 00:09:26 UTC   purchase     4804055   \n365              583  2019-10-01 00:09:33 UTC       cart     1002524   \n...              ...                      ...        ...         ...   \n28932773    42448173  2019-10-31 23:55:21 UTC   purchase    47500017   \n28932835    42448271  2019-10-31 23:56:03 UTC   purchase     1003306   \n28932847    42448292  2019-10-31 23:56:11 UTC       cart     1004240   \n28932895    42448362  2019-10-31 23:56:53 UTC   purchase     1004240   \n28933083    42448657  2019-10-31 23:59:16 UTC   purchase     4804056   \n\n                  category_id                category_code     brand    price  \\\n113       2053013555631882655       electronics.smartphone   samsung   130.76   \n208       2053013555631882655       electronics.smartphone     apple   642.69   \n285       2053013557418656265    furniture.bathroom.toilet   santeri    54.42   \n361       2053013554658804075  electronics.audio.headphone     apple   189.91   \n365       2053013555631882655       electronics.smartphone     apple   515.67   \n...                       ...                          ...       ...      ...   \n28932773  2110937143172923797     construction.tools.light  puckator    20.59   \n28932835  2053013555631882655       electronics.smartphone     apple   577.89   \n28932847  2053013555631882655       electronics.smartphone     apple  1054.60   \n28932895  2053013555631882655       electronics.smartphone     apple  1054.60   \n28933083  2053013554658804075  electronics.audio.headphone     apple   160.57   \n\n            user_id                          user_session        depth1  \\\n113       543272936  8187d148-3c41-46d4-b0c0-9c08cd9dc564   electronics   \n208       551377651  3c80f0d6-e9ec-4181-8c5c-837a30be2d68   electronics   \n285       555332717  1dea3ee2-2ded-42e8-8e7a-4e2ad6ae942f     furniture   \n361       524601178  2af9b570-0942-4dcd-8f25-4d84fba82553   electronics   \n365       524325294  0b74a829-f9d7-4654-b5b0-35bc9822c238   electronics   \n...             ...                                   ...           ...   \n28932773  514622109  5724116e-365b-4ac1-9d03-b8d66e1ccc7c  construction   \n28932835  512717356  f35ac37c-9573-4e30-b3d9-c09bb0b95a2b   electronics   \n28932847  533892594  3a5a3b01-2ab1-4a1d-a202-30d336e0057b   electronics   \n28932895  533892594  3a5a3b01-2ab1-4a1d-a202-30d336e0057b   electronics   \n28933083  544501248  e330d051-37ad-4dc3-b1ee-ff16a28b7998   electronics   \n\n              depth2  \n113       smartphone  \n208       smartphone  \n285           toilet  \n361        headphone  \n365       smartphone  \n...              ...  \n28932773       light  \n28932835  smartphone  \n28932847  smartphone  \n28932895  smartphone  \n28933083   headphone  \n\n[1081447 rows x 12 columns]",
      "text/html": "<div>\n<style scoped>\n    .dataframe tbody tr th:only-of-type {\n        vertical-align: middle;\n    }\n\n    .dataframe tbody tr th {\n        vertical-align: top;\n    }\n\n    .dataframe thead th {\n        text-align: right;\n    }\n</style>\n<table border=\"1\" class=\"dataframe\">\n  <thead>\n    <tr style=\"text-align: right;\">\n      <th></th>\n      <th>Unnamed: 0</th>\n      <th>event_time</th>\n      <th>event_type</th>\n      <th>product_id</th>\n      <th>category_id</th>\n      <th>category_code</th>\n      <th>brand</th>\n      <th>price</th>\n      <th>user_id</th>\n      <th>user_session</th>\n      <th>depth1</th>\n      <th>depth2</th>\n    </tr>\n  </thead>\n  <tbody>\n    <tr>\n      <th>113</th>\n      <td>162</td>\n      <td>2019-10-01 00:02:14 UTC</td>\n      <td>purchase</td>\n      <td>1004856</td>\n      <td>2053013555631882655</td>\n      <td>electronics.smartphone</td>\n      <td>samsung</td>\n      <td>130.76</td>\n      <td>543272936</td>\n      <td>8187d148-3c41-46d4-b0c0-9c08cd9dc564</td>\n      <td>electronics</td>\n      <td>smartphone</td>\n    </tr>\n    <tr>\n      <th>208</th>\n      <td>308</td>\n      <td>2019-10-01 00:04:37 UTC</td>\n      <td>purchase</td>\n      <td>1002532</td>\n      <td>2053013555631882655</td>\n      <td>electronics.smartphone</td>\n      <td>apple</td>\n      <td>642.69</td>\n      <td>551377651</td>\n      <td>3c80f0d6-e9ec-4181-8c5c-837a30be2d68</td>\n      <td>electronics</td>\n      <td>smartphone</td>\n    </tr>\n    <tr>\n      <th>285</th>\n      <td>442</td>\n      <td>2019-10-01 00:07:07 UTC</td>\n      <td>purchase</td>\n      <td>13800054</td>\n      <td>2053013557418656265</td>\n      <td>furniture.bathroom.toilet</td>\n      <td>santeri</td>\n      <td>54.42</td>\n      <td>555332717</td>\n      <td>1dea3ee2-2ded-42e8-8e7a-4e2ad6ae942f</td>\n      <td>furniture</td>\n      <td>toilet</td>\n    </tr>\n    <tr>\n      <th>361</th>\n      <td>574</td>\n      <td>2019-10-01 00:09:26 UTC</td>\n      <td>purchase</td>\n      <td>4804055</td>\n      <td>2053013554658804075</td>\n      <td>electronics.audio.headphone</td>\n      <td>apple</td>\n      <td>189.91</td>\n      <td>524601178</td>\n      <td>2af9b570-0942-4dcd-8f25-4d84fba82553</td>\n      <td>electronics</td>\n      <td>headphone</td>\n    </tr>\n    <tr>\n      <th>365</th>\n      <td>583</td>\n      <td>2019-10-01 00:09:33 UTC</td>\n      <td>cart</td>\n      <td>1002524</td>\n      <td>2053013555631882655</td>\n      <td>electronics.smartphone</td>\n      <td>apple</td>\n      <td>515.67</td>\n      <td>524325294</td>\n      <td>0b74a829-f9d7-4654-b5b0-35bc9822c238</td>\n      <td>electronics</td>\n      <td>smartphone</td>\n    </tr>\n    <tr>\n      <th>...</th>\n      <td>...</td>\n      <td>...</td>\n      <td>...</td>\n      <td>...</td>\n      <td>...</td>\n      <td>...</td>\n      <td>...</td>\n      <td>...</td>\n      <td>...</td>\n      <td>...</td>\n      <td>...</td>\n      <td>...</td>\n    </tr>\n    <tr>\n      <th>28932773</th>\n      <td>42448173</td>\n      <td>2019-10-31 23:55:21 UTC</td>\n      <td>purchase</td>\n      <td>47500017</td>\n      <td>2110937143172923797</td>\n      <td>construction.tools.light</td>\n      <td>puckator</td>\n      <td>20.59</td>\n      <td>514622109</td>\n      <td>5724116e-365b-4ac1-9d03-b8d66e1ccc7c</td>\n      <td>construction</td>\n      <td>light</td>\n    </tr>\n    <tr>\n      <th>28932835</th>\n      <td>42448271</td>\n      <td>2019-10-31 23:56:03 UTC</td>\n      <td>purchase</td>\n      <td>1003306</td>\n      <td>2053013555631882655</td>\n      <td>electronics.smartphone</td>\n      <td>apple</td>\n      <td>577.89</td>\n      <td>512717356</td>\n      <td>f35ac37c-9573-4e30-b3d9-c09bb0b95a2b</td>\n      <td>electronics</td>\n      <td>smartphone</td>\n    </tr>\n    <tr>\n      <th>28932847</th>\n      <td>42448292</td>\n      <td>2019-10-31 23:56:11 UTC</td>\n      <td>cart</td>\n      <td>1004240</td>\n      <td>2053013555631882655</td>\n      <td>electronics.smartphone</td>\n      <td>apple</td>\n      <td>1054.60</td>\n      <td>533892594</td>\n      <td>3a5a3b01-2ab1-4a1d-a202-30d336e0057b</td>\n      <td>electronics</td>\n      <td>smartphone</td>\n    </tr>\n    <tr>\n      <th>28932895</th>\n      <td>42448362</td>\n      <td>2019-10-31 23:56:53 UTC</td>\n      <td>purchase</td>\n      <td>1004240</td>\n      <td>2053013555631882655</td>\n      <td>electronics.smartphone</td>\n      <td>apple</td>\n      <td>1054.60</td>\n      <td>533892594</td>\n      <td>3a5a3b01-2ab1-4a1d-a202-30d336e0057b</td>\n      <td>electronics</td>\n      <td>smartphone</td>\n    </tr>\n    <tr>\n      <th>28933083</th>\n      <td>42448657</td>\n      <td>2019-10-31 23:59:16 UTC</td>\n      <td>purchase</td>\n      <td>4804056</td>\n      <td>2053013554658804075</td>\n      <td>electronics.audio.headphone</td>\n      <td>apple</td>\n      <td>160.57</td>\n      <td>544501248</td>\n      <td>e330d051-37ad-4dc3-b1ee-ff16a28b7998</td>\n      <td>electronics</td>\n      <td>headphone</td>\n    </tr>\n  </tbody>\n</table>\n<p>1081447 rows × 12 columns</p>\n</div>"
     },
     "execution_count": 111,
     "metadata": {},
     "output_type": "execute_result"
    }
   ],
   "source": [
    "#단일 상품으로 고려\n",
    "only_one = df[df[\"event_type\"].isin([\"cart\", \"purchase\"])].drop_duplicates([\"event_type\", \"product_id\", \"price\", \"user_id\", \"user_session\"])\n",
    "only_one"
   ],
   "metadata": {
    "collapsed": false,
    "pycharm": {
     "name": "#%%\n"
    }
   }
  },
  {
   "cell_type": "code",
   "execution_count": 112,
   "outputs": [],
   "source": [
    "df_target = only_one.copy()\n",
    "#구매 칼럼 생성\n",
    "df_target[\"is_purchased\"] = np.where(only_one[\"event_type\"]==\"purchase\", 1, 0)\n",
    "\n",
    "#한세션당 구입한 상품\n",
    "df_target[\"is_purchased\"] = df_target.groupby([\"user_session\", \"product_id\"])[\"is_purchased\"].transform(\"max\")\n",
    "\n",
    "#카트에 넣고 구매했는지 중복값 제거\n",
    "df_target = df_target.loc[df_target[\"event_type\"]==\"cart\"].drop_duplicates([\"user_session\", \"product_id\", \"is_purchased\"])"
   ],
   "metadata": {
    "collapsed": false,
    "pycharm": {
     "name": "#%%\n"
    }
   }
  },
  {
   "cell_type": "code",
   "execution_count": 113,
   "outputs": [
    {
     "data": {
      "text/plain": "          Unnamed: 0               event_time event_type  product_id  \\\n365              583  2019-10-01 00:09:33 UTC       cart     1002524   \n423              680  2019-10-01 00:11:00 UTC       cart     4804056   \n860             1325  2019-10-01 02:17:59 UTC       cart     1004833   \n1089            1654  2019-10-01 02:19:36 UTC       cart     1005003   \n1108            1684  2019-10-01 02:19:43 UTC       cart     1004750   \n...              ...                      ...        ...         ...   \n28932561    42447836  2019-10-31 23:52:56 UTC       cart     1004767   \n28932564    42447841  2019-10-31 23:52:57 UTC       cart     1004870   \n28932741    42448124  2019-10-31 23:55:07 UTC       cart     1005134   \n28932762    42448156  2019-10-31 23:55:14 UTC       cart     1003306   \n28932847    42448292  2019-10-31 23:56:11 UTC       cart     1004240   \n\n                  category_id                category_code    brand    price  \\\n365       2053013555631882655       electronics.smartphone    apple   515.67   \n423       2053013554658804075  electronics.audio.headphone    apple   161.98   \n860       2053013555631882655       electronics.smartphone  samsung   174.76   \n1089      2053013555631882655       electronics.smartphone   huawei   258.21   \n1108      2053013555631882655       electronics.smartphone  samsung   197.43   \n...                       ...                          ...      ...      ...   \n28932561  2053013555631882655       electronics.smartphone  samsung   242.63   \n28932564  2053013555631882655       electronics.smartphone  samsung   275.25   \n28932741  2053013555631882655       electronics.smartphone    apple  1889.07   \n28932762  2053013555631882655       electronics.smartphone    apple   577.89   \n28932847  2053013555631882655       electronics.smartphone    apple  1054.60   \n\n            user_id                          user_session       depth1  \\\n365       524325294  0b74a829-f9d7-4654-b5b0-35bc9822c238  electronics   \n423       533624186  e5ac3caa-e6d5-4d6b-ae06-2c18cd9ca683  electronics   \n860       536415846  685b5b42-f597-4a69-ab4c-ef96a30bc454  electronics   \n1089      513632293  f2cc68f7-39d1-4a50-9dcf-f2a0921bdfda  electronics   \n1108      555110488  ce885079-4d92-4fe6-92a3-377c5a2d8291  electronics   \n...             ...                                   ...          ...   \n28932561  542774966  957dc70c-31d3-42b7-aef0-2d2827c35251  electronics   \n28932564  550884173  32e8b23e-4bb6-4b67-b2eb-6f421dfd110a  electronics   \n28932741  566280291  20715c6f-d6fc-4ed4-9d48-c7c2b5d03602  electronics   \n28932762  512717356  f35ac37c-9573-4e30-b3d9-c09bb0b95a2b  electronics   \n28932847  533892594  3a5a3b01-2ab1-4a1d-a202-30d336e0057b  electronics   \n\n              depth2  is_purchased  \n365       smartphone             1  \n423        headphone             0  \n860       smartphone             0  \n1089      smartphone             1  \n1108      smartphone             1  \n...              ...           ...  \n28932561  smartphone             1  \n28932564  smartphone             0  \n28932741  smartphone             0  \n28932762  smartphone             1  \n28932847  smartphone             1  \n\n[554288 rows x 13 columns]",
      "text/html": "<div>\n<style scoped>\n    .dataframe tbody tr th:only-of-type {\n        vertical-align: middle;\n    }\n\n    .dataframe tbody tr th {\n        vertical-align: top;\n    }\n\n    .dataframe thead th {\n        text-align: right;\n    }\n</style>\n<table border=\"1\" class=\"dataframe\">\n  <thead>\n    <tr style=\"text-align: right;\">\n      <th></th>\n      <th>Unnamed: 0</th>\n      <th>event_time</th>\n      <th>event_type</th>\n      <th>product_id</th>\n      <th>category_id</th>\n      <th>category_code</th>\n      <th>brand</th>\n      <th>price</th>\n      <th>user_id</th>\n      <th>user_session</th>\n      <th>depth1</th>\n      <th>depth2</th>\n      <th>is_purchased</th>\n    </tr>\n  </thead>\n  <tbody>\n    <tr>\n      <th>365</th>\n      <td>583</td>\n      <td>2019-10-01 00:09:33 UTC</td>\n      <td>cart</td>\n      <td>1002524</td>\n      <td>2053013555631882655</td>\n      <td>electronics.smartphone</td>\n      <td>apple</td>\n      <td>515.67</td>\n      <td>524325294</td>\n      <td>0b74a829-f9d7-4654-b5b0-35bc9822c238</td>\n      <td>electronics</td>\n      <td>smartphone</td>\n      <td>1</td>\n    </tr>\n    <tr>\n      <th>423</th>\n      <td>680</td>\n      <td>2019-10-01 00:11:00 UTC</td>\n      <td>cart</td>\n      <td>4804056</td>\n      <td>2053013554658804075</td>\n      <td>electronics.audio.headphone</td>\n      <td>apple</td>\n      <td>161.98</td>\n      <td>533624186</td>\n      <td>e5ac3caa-e6d5-4d6b-ae06-2c18cd9ca683</td>\n      <td>electronics</td>\n      <td>headphone</td>\n      <td>0</td>\n    </tr>\n    <tr>\n      <th>860</th>\n      <td>1325</td>\n      <td>2019-10-01 02:17:59 UTC</td>\n      <td>cart</td>\n      <td>1004833</td>\n      <td>2053013555631882655</td>\n      <td>electronics.smartphone</td>\n      <td>samsung</td>\n      <td>174.76</td>\n      <td>536415846</td>\n      <td>685b5b42-f597-4a69-ab4c-ef96a30bc454</td>\n      <td>electronics</td>\n      <td>smartphone</td>\n      <td>0</td>\n    </tr>\n    <tr>\n      <th>1089</th>\n      <td>1654</td>\n      <td>2019-10-01 02:19:36 UTC</td>\n      <td>cart</td>\n      <td>1005003</td>\n      <td>2053013555631882655</td>\n      <td>electronics.smartphone</td>\n      <td>huawei</td>\n      <td>258.21</td>\n      <td>513632293</td>\n      <td>f2cc68f7-39d1-4a50-9dcf-f2a0921bdfda</td>\n      <td>electronics</td>\n      <td>smartphone</td>\n      <td>1</td>\n    </tr>\n    <tr>\n      <th>1108</th>\n      <td>1684</td>\n      <td>2019-10-01 02:19:43 UTC</td>\n      <td>cart</td>\n      <td>1004750</td>\n      <td>2053013555631882655</td>\n      <td>electronics.smartphone</td>\n      <td>samsung</td>\n      <td>197.43</td>\n      <td>555110488</td>\n      <td>ce885079-4d92-4fe6-92a3-377c5a2d8291</td>\n      <td>electronics</td>\n      <td>smartphone</td>\n      <td>1</td>\n    </tr>\n    <tr>\n      <th>...</th>\n      <td>...</td>\n      <td>...</td>\n      <td>...</td>\n      <td>...</td>\n      <td>...</td>\n      <td>...</td>\n      <td>...</td>\n      <td>...</td>\n      <td>...</td>\n      <td>...</td>\n      <td>...</td>\n      <td>...</td>\n      <td>...</td>\n    </tr>\n    <tr>\n      <th>28932561</th>\n      <td>42447836</td>\n      <td>2019-10-31 23:52:56 UTC</td>\n      <td>cart</td>\n      <td>1004767</td>\n      <td>2053013555631882655</td>\n      <td>electronics.smartphone</td>\n      <td>samsung</td>\n      <td>242.63</td>\n      <td>542774966</td>\n      <td>957dc70c-31d3-42b7-aef0-2d2827c35251</td>\n      <td>electronics</td>\n      <td>smartphone</td>\n      <td>1</td>\n    </tr>\n    <tr>\n      <th>28932564</th>\n      <td>42447841</td>\n      <td>2019-10-31 23:52:57 UTC</td>\n      <td>cart</td>\n      <td>1004870</td>\n      <td>2053013555631882655</td>\n      <td>electronics.smartphone</td>\n      <td>samsung</td>\n      <td>275.25</td>\n      <td>550884173</td>\n      <td>32e8b23e-4bb6-4b67-b2eb-6f421dfd110a</td>\n      <td>electronics</td>\n      <td>smartphone</td>\n      <td>0</td>\n    </tr>\n    <tr>\n      <th>28932741</th>\n      <td>42448124</td>\n      <td>2019-10-31 23:55:07 UTC</td>\n      <td>cart</td>\n      <td>1005134</td>\n      <td>2053013555631882655</td>\n      <td>electronics.smartphone</td>\n      <td>apple</td>\n      <td>1889.07</td>\n      <td>566280291</td>\n      <td>20715c6f-d6fc-4ed4-9d48-c7c2b5d03602</td>\n      <td>electronics</td>\n      <td>smartphone</td>\n      <td>0</td>\n    </tr>\n    <tr>\n      <th>28932762</th>\n      <td>42448156</td>\n      <td>2019-10-31 23:55:14 UTC</td>\n      <td>cart</td>\n      <td>1003306</td>\n      <td>2053013555631882655</td>\n      <td>electronics.smartphone</td>\n      <td>apple</td>\n      <td>577.89</td>\n      <td>512717356</td>\n      <td>f35ac37c-9573-4e30-b3d9-c09bb0b95a2b</td>\n      <td>electronics</td>\n      <td>smartphone</td>\n      <td>1</td>\n    </tr>\n    <tr>\n      <th>28932847</th>\n      <td>42448292</td>\n      <td>2019-10-31 23:56:11 UTC</td>\n      <td>cart</td>\n      <td>1004240</td>\n      <td>2053013555631882655</td>\n      <td>electronics.smartphone</td>\n      <td>apple</td>\n      <td>1054.60</td>\n      <td>533892594</td>\n      <td>3a5a3b01-2ab1-4a1d-a202-30d336e0057b</td>\n      <td>electronics</td>\n      <td>smartphone</td>\n      <td>1</td>\n    </tr>\n  </tbody>\n</table>\n<p>554288 rows × 13 columns</p>\n</div>"
     },
     "execution_count": 113,
     "metadata": {},
     "output_type": "execute_result"
    }
   ],
   "source": [
    "df_target"
   ],
   "metadata": {
    "collapsed": false,
    "pycharm": {
     "name": "#%%\n"
    }
   }
  },
  {
   "cell_type": "code",
   "execution_count": 114,
   "outputs": [
    {
     "data": {
      "text/plain": "                                 user_session  in_cart\n0        00000083-8816-4d58-a9b8-f52f54186edc       18\n1        000001fd-1f89-45e8-a3ce-fe3218cabfad       11\n2        000003eb-b63e-45d9-9f26-f229057c654a        1\n3        00000809-9101-4e4b-9795-e6cbafccfe19        4\n4        00000aaa-d774-49bc-9c31-0c9f6e1c2f0a        1\n...                                       ...      ...\n1799382  ffffa654-87e2-3a83-1a87-33c0480c3e36        7\n1799383  ffffaa22-7177-4820-849e-3130c634ada3        4\n1799384  ffffaa7e-6a84-47e8-aa8a-693be5f66120        1\n1799385  ffffd89d-208c-28ec-da2f-6668c878fffc        1\n1799386  ffffe3ba-7c09-4c3a-a8fe-75ba46b1e146        2\n\n[1799387 rows x 2 columns]",
      "text/html": "<div>\n<style scoped>\n    .dataframe tbody tr th:only-of-type {\n        vertical-align: middle;\n    }\n\n    .dataframe tbody tr th {\n        vertical-align: top;\n    }\n\n    .dataframe thead th {\n        text-align: right;\n    }\n</style>\n<table border=\"1\" class=\"dataframe\">\n  <thead>\n    <tr style=\"text-align: right;\">\n      <th></th>\n      <th>user_session</th>\n      <th>in_cart</th>\n    </tr>\n  </thead>\n  <tbody>\n    <tr>\n      <th>0</th>\n      <td>00000083-8816-4d58-a9b8-f52f54186edc</td>\n      <td>18</td>\n    </tr>\n    <tr>\n      <th>1</th>\n      <td>000001fd-1f89-45e8-a3ce-fe3218cabfad</td>\n      <td>11</td>\n    </tr>\n    <tr>\n      <th>2</th>\n      <td>000003eb-b63e-45d9-9f26-f229057c654a</td>\n      <td>1</td>\n    </tr>\n    <tr>\n      <th>3</th>\n      <td>00000809-9101-4e4b-9795-e6cbafccfe19</td>\n      <td>4</td>\n    </tr>\n    <tr>\n      <th>4</th>\n      <td>00000aaa-d774-49bc-9c31-0c9f6e1c2f0a</td>\n      <td>1</td>\n    </tr>\n    <tr>\n      <th>...</th>\n      <td>...</td>\n      <td>...</td>\n    </tr>\n    <tr>\n      <th>1799382</th>\n      <td>ffffa654-87e2-3a83-1a87-33c0480c3e36</td>\n      <td>7</td>\n    </tr>\n    <tr>\n      <th>1799383</th>\n      <td>ffffaa22-7177-4820-849e-3130c634ada3</td>\n      <td>4</td>\n    </tr>\n    <tr>\n      <th>1799384</th>\n      <td>ffffaa7e-6a84-47e8-aa8a-693be5f66120</td>\n      <td>1</td>\n    </tr>\n    <tr>\n      <th>1799385</th>\n      <td>ffffd89d-208c-28ec-da2f-6668c878fffc</td>\n      <td>1</td>\n    </tr>\n    <tr>\n      <th>1799386</th>\n      <td>ffffe3ba-7c09-4c3a-a8fe-75ba46b1e146</td>\n      <td>2</td>\n    </tr>\n  </tbody>\n</table>\n<p>1799387 rows × 2 columns</p>\n</div>"
     },
     "execution_count": 114,
     "metadata": {},
     "output_type": "execute_result"
    }
   ],
   "source": [
    "#한 세션, 아이디당 카트에 담은 수\n",
    "in_cart_ids = df.loc[df[\"event_type\"] == \"cart\"].drop_duplicates(\"user_id\")\n",
    "in_cart = df.loc[df[\"user_id\"].isin(in_cart_ids[\"user_id\"])]\n",
    "in_cart = in_cart.groupby([\"user_session\"])[\"event_type\"].count().reset_index()\n",
    "in_cart = in_cart.rename(columns={\"event_type\": \"in_cart\"})\n",
    "in_cart"
   ],
   "metadata": {
    "collapsed": false,
    "pycharm": {
     "name": "#%%\n"
    }
   }
  },
  {
   "cell_type": "code",
   "execution_count": 115,
   "outputs": [
    {
     "data": {
      "text/plain": "     user_id                category_code    brand  \\\n0  524325294       electronics.smartphone    apple   \n1  533624186  electronics.audio.headphone    apple   \n2  536415846       electronics.smartphone  samsung   \n3  513632293       electronics.smartphone   huawei   \n4  555110488       electronics.smartphone  samsung   \n\n                           user_session  is_purchased  in_cart  \n0  0b74a829-f9d7-4654-b5b0-35bc9822c238             1        4  \n1  e5ac3caa-e6d5-4d6b-ae06-2c18cd9ca683             0        4  \n2  685b5b42-f597-4a69-ab4c-ef96a30bc454             0        7  \n3  f2cc68f7-39d1-4a50-9dcf-f2a0921bdfda             1       16  \n4  ce885079-4d92-4fe6-92a3-377c5a2d8291             1       10  ",
      "text/html": "<div>\n<style scoped>\n    .dataframe tbody tr th:only-of-type {\n        vertical-align: middle;\n    }\n\n    .dataframe tbody tr th {\n        vertical-align: top;\n    }\n\n    .dataframe thead th {\n        text-align: right;\n    }\n</style>\n<table border=\"1\" class=\"dataframe\">\n  <thead>\n    <tr style=\"text-align: right;\">\n      <th></th>\n      <th>user_id</th>\n      <th>category_code</th>\n      <th>brand</th>\n      <th>user_session</th>\n      <th>is_purchased</th>\n      <th>in_cart</th>\n    </tr>\n  </thead>\n  <tbody>\n    <tr>\n      <th>0</th>\n      <td>524325294</td>\n      <td>electronics.smartphone</td>\n      <td>apple</td>\n      <td>0b74a829-f9d7-4654-b5b0-35bc9822c238</td>\n      <td>1</td>\n      <td>4</td>\n    </tr>\n    <tr>\n      <th>1</th>\n      <td>533624186</td>\n      <td>electronics.audio.headphone</td>\n      <td>apple</td>\n      <td>e5ac3caa-e6d5-4d6b-ae06-2c18cd9ca683</td>\n      <td>0</td>\n      <td>4</td>\n    </tr>\n    <tr>\n      <th>2</th>\n      <td>536415846</td>\n      <td>electronics.smartphone</td>\n      <td>samsung</td>\n      <td>685b5b42-f597-4a69-ab4c-ef96a30bc454</td>\n      <td>0</td>\n      <td>7</td>\n    </tr>\n    <tr>\n      <th>3</th>\n      <td>513632293</td>\n      <td>electronics.smartphone</td>\n      <td>huawei</td>\n      <td>f2cc68f7-39d1-4a50-9dcf-f2a0921bdfda</td>\n      <td>1</td>\n      <td>16</td>\n    </tr>\n    <tr>\n      <th>4</th>\n      <td>555110488</td>\n      <td>electronics.smartphone</td>\n      <td>samsung</td>\n      <td>ce885079-4d92-4fe6-92a3-377c5a2d8291</td>\n      <td>1</td>\n      <td>10</td>\n    </tr>\n  </tbody>\n</table>\n</div>"
     },
     "execution_count": 115,
     "metadata": {},
     "output_type": "execute_result"
    }
   ],
   "source": [
    "df_target = df_target.merge(in_cart, on=\"user_session\", how=\"left\")\n",
    "df_target[\"in_cart\"] = df_target[\"in_cart\"].fillna(0)\n",
    "df_target[[\"user_id\", \"category_code\", \"brand\", \"user_session\", \"is_purchased\", \"in_cart\"]].head()"
   ],
   "metadata": {
    "collapsed": false,
    "pycharm": {
     "name": "#%%\n"
    }
   }
  },
  {
   "cell_type": "code",
   "execution_count": 116,
   "outputs": [
    {
     "data": {
      "text/plain": "               category_code    brand                          user_session  \\\n2     electronics.smartphone  samsung  685b5b42-f597-4a69-ab4c-ef96a30bc454   \n2384  electronics.smartphone  samsung  ac58ce9c-89a9-4088-b0fb-4b1f19da718c   \n\n      is_purchased  in_cart  \n2                0        7  \n2384             1        5  ",
      "text/html": "<div>\n<style scoped>\n    .dataframe tbody tr th:only-of-type {\n        vertical-align: middle;\n    }\n\n    .dataframe tbody tr th {\n        vertical-align: top;\n    }\n\n    .dataframe thead th {\n        text-align: right;\n    }\n</style>\n<table border=\"1\" class=\"dataframe\">\n  <thead>\n    <tr style=\"text-align: right;\">\n      <th></th>\n      <th>category_code</th>\n      <th>brand</th>\n      <th>user_session</th>\n      <th>is_purchased</th>\n      <th>in_cart</th>\n    </tr>\n  </thead>\n  <tbody>\n    <tr>\n      <th>2</th>\n      <td>electronics.smartphone</td>\n      <td>samsung</td>\n      <td>685b5b42-f597-4a69-ab4c-ef96a30bc454</td>\n      <td>0</td>\n      <td>7</td>\n    </tr>\n    <tr>\n      <th>2384</th>\n      <td>electronics.smartphone</td>\n      <td>samsung</td>\n      <td>ac58ce9c-89a9-4088-b0fb-4b1f19da718c</td>\n      <td>1</td>\n      <td>5</td>\n    </tr>\n  </tbody>\n</table>\n</div>"
     },
     "execution_count": 116,
     "metadata": {},
     "output_type": "execute_result"
    }
   ],
   "source": [
    "df_target[df_target[\"user_id\"] == 536415846][[\"category_code\", \"brand\", \"user_session\", \"is_purchased\", \"in_cart\"]]"
   ],
   "metadata": {
    "collapsed": false,
    "pycharm": {
     "name": "#%%\n"
    }
   }
  },
  {
   "cell_type": "code",
   "execution_count": 117,
   "outputs": [
    {
     "data": {
      "text/plain": "0.4996265479317611"
     },
     "execution_count": 117,
     "metadata": {},
     "output_type": "execute_result"
    }
   ],
   "source": [
    "#구매자 비율\n",
    "df_target[df_target[\"is_purchased\"]== 1].shape[0] / df_target.shape[0]"
   ],
   "metadata": {
    "collapsed": false,
    "pycharm": {
     "name": "#%%\n"
    }
   }
  },
  {
   "cell_type": "code",
   "execution_count": 118,
   "outputs": [
    {
     "data": {
      "text/plain": "0.5003734520682389"
     },
     "execution_count": 118,
     "metadata": {},
     "output_type": "execute_result"
    }
   ],
   "source": [
    "#비 구매자 비율\n",
    "df_target[df_target[\"is_purchased\"]== 0].shape[0] / df_target.shape[0]"
   ],
   "metadata": {
    "collapsed": false,
    "pycharm": {
     "name": "#%%\n"
    }
   }
  },
  {
   "cell_type": "code",
   "execution_count": 119,
   "outputs": [],
   "source": [
    "df_target.to_csv(\"./2019-Oct-depth-target.csv\")"
   ],
   "metadata": {
    "collapsed": false,
    "pycharm": {
     "name": "#%%\n"
    }
   }
  }
 ],
 "metadata": {
  "kernelspec": {
   "display_name": "Python 3",
   "language": "python",
   "name": "python3"
  },
  "language_info": {
   "codemirror_mode": {
    "name": "ipython",
    "version": 2
   },
   "file_extension": ".py",
   "mimetype": "text/x-python",
   "name": "python",
   "nbconvert_exporter": "python",
   "pygments_lexer": "ipython2",
   "version": "2.7.6"
  }
 },
 "nbformat": 4,
 "nbformat_minor": 0
}